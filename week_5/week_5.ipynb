{
 "cells": [
  {
   "cell_type": "markdown",
   "metadata": {},
   "source": [
    "# NetCDF Tutorial\n",
    "\n",
    "NetCDF is a self documenting data and file format for scientific databases.  NetCDF is a \n",
    "   1) Data model\n",
    "   2) File format\n",
    "   3) Application programming interface (API)\n",
    "   4) Library implementing the API\n",
    "\n",
    "Together the data model, file format, and APIs support the creation, access, and sharing of scientific data.\n",
    "\n",
    "A netCDF file contains metadata describing groups, dimensions, and variables.  Lots of useful information can be found at http://www.unidata.ucar.edu/software/netcdf/workshops/2010/index.html\n",
    "\n",
    "Material from this tutorial also Material from this tutorial liberally borrows from http://unidata.github.io/netcdf4-python.\n",
    "\n",
    "## Groups\n",
    "\n",
    "Groups provide a scope for names and a scalable way to organize data objects. Groups are like directories in a file system except that netCDF groups are all contained within a file.  Groups allow netCDF variables, dimensions, and attributes to be organized in hierarchical groups descending from the root group.\n",
    "\n",
    "## Dimensions\n",
    "\n",
    "A dimension may be used to represent a real physical dimension, for example, time, latitude, longitude, or height. A dimension might also be used to index other quantities, for example station or model-run-number.\n",
    "\n",
    "\n",
    "## Attributes\n",
    "\n",
    "NetCDF attributes are used to store data about the data (ancillary data or metadata), similar in many ways to the information stored in data dictionaries and schema in conventional database systems. Most attributes provide information about a specific variable. These are identified by the name (or ID) of that variable, together with the name of the attribute.\n",
    "\n",
    "## Download and install\n",
    "\n",
    "Go to http://unidata.github.io/netcdf4-python to download the latest version of the Python module for netCDF4.  This software allows you to read and write netCDF and HDF files using Python wrappers to the underlying C netCDF libraries.  Note, this means that the C netCDF and HDF5 libraries must be installed first.\n",
    "\n",
    "## Example Python code\n",
    "\n",
    "### 1) Creating/Opening/Closing a netCDF file\n",
    "\n"
   ]
  },
  {
   "cell_type": "code",
   "execution_count": null,
   "metadata": {
    "collapsed": false
   },
   "outputs": [],
   "source": [
    "from netCDF4 import Dataset\n",
    "\n",
    "## open an existing file (returns the root group)\n",
    "#\n",
    "rootgrp = Dataset('surfdata_1x1pt_vielsalm_c080626.nc', 'r')\n",
    "\n",
    "## examples of how to query the Dataset object\n",
    "#\n",
    "# dir(rootgrp)\n",
    "# help(rootgrp.createDimension)\n",
    "\n",
    "## close the file\n",
    "#\n",
    "rootgrp.close()"
   ]
  },
  {
   "cell_type": "markdown",
   "metadata": {},
   "source": [
    "### 2) Dimensions in a netCDF file\n",
    "\n",
    "Let's look at the dimensions in a group via the group's dimensions variable.  Note that the type of the dimensions object is a Python dictionary.  This means you can get a value within the dimension object using a key (the name of the dimension).\n"
   ]
  },
  {
   "cell_type": "code",
   "execution_count": null,
   "metadata": {
    "collapsed": false
   },
   "outputs": [],
   "source": [
    "rootgrp = Dataset('surfdata_1x1pt_vielsalm_c080626.nc', 'r')\n",
    "\n",
    "## look at the dimensions\n",
    "#\n",
    "rootgrp.dimensions\n",
    "lat  = rootgrp.dimensions['lsmlat']\n",
    "time = rootgrp.dimensions['time']\n",
    "\n",
    "## a dimension has a name\n",
    "#\n",
    "print(time.name)\n",
    "\n",
    "## a dimension has a size\n",
    "#\n",
    "print(len(time))\n",
    "\n",
    "## a dimension's size can be unlimited\n",
    "#\n",
    "print(time.isunlimited())\n"
   ]
  },
  {
   "cell_type": "markdown",
   "metadata": {},
   "source": [
    "### 3) Variables in a netCDF file\n",
    "\n",
    "NetCDF variables behave much like python multidimensional array objects in the numpy module.  Printing all of the variables in rootgrp would display too much information.  So let's just examine the variable 'PCT_GLACIER'.\n"
   ]
  },
  {
   "cell_type": "code",
   "execution_count": null,
   "metadata": {
    "collapsed": false
   },
   "outputs": [],
   "source": [
    "## look at a variable\n",
    "#\n",
    "glacier = rootgrp.variables['PCT_GLACIER']\n",
    "print(glacier)\n",
    "\n",
    "## look at various information regarding the variable\n",
    "#     : don't forget to try dir(glacier)\n",
    "#\n",
    "print(glacier.name)\n",
    "print(glacier.dimensions)\n",
    "print(glacier.shape)\n"
   ]
  },
  {
   "cell_type": "markdown",
   "metadata": {},
   "source": [
    "### 4) Attributes in a netCDF file\n",
    "\n",
    "There are two types of attributes in a netCDF file, global and variable. Global attributes provide information about a group, or the entire dataset, as a whole. Variable attributes provide information about one of the variables in a group.\n"
   ]
  },
  {
   "cell_type": "code",
   "execution_count": null,
   "metadata": {
    "collapsed": false
   },
   "outputs": [],
   "source": [
    "## look at the attribute names in the root group\n",
    "#\n",
    "rootgrp.ncattrs()\n",
    "\n",
    "## the attributes themselves are actually in the __dict__ variable of the group object\n",
    "#\n",
    "attrs = rootgrp.__dict__\n",
    "#print(attrs['Glacier_raw_data_file_name']\n",
    "attrs['Glacier_raw_data_file_name']\n"
   ]
  },
  {
   "cell_type": "markdown",
   "metadata": {},
   "source": [
    "### 5) Retrieving data from a netCDF variable\n",
    "\n",
    "Data in a netCDF variable is stored in a numpy.ndarray.\n"
   ]
  },
  {
   "cell_type": "code",
   "execution_count": null,
   "metadata": {
    "collapsed": false
   },
   "outputs": [],
   "source": [
    "## get the 'SOILCARB' variable\n",
    "#\n",
    "soil = rootgrp.variables['SOILCARB']\n",
    "print(soil.dimensions)\n",
    "print(soil.shape)\n",
    "\n",
    "## print the first few values\n",
    "#\n",
    "print(soil[:3])\n"
   ]
  },
  {
   "cell_type": "code",
   "execution_count": 9,
   "metadata": {
    "collapsed": false
   },
   "outputs": [
    {
     "name": "stdout",
     "output_type": "stream",
     "text": [
      "(10, 1, 1)\n"
     ]
    },
    {
     "data": {
      "image/png": "[encoded data removed]",
      "text/plain": [
       "<matplotlib.figure.Figure at 0x10e85a750>"
      ]
     },
     "metadata": {},
     "output_type": "display_data"
    }
   ],
   "source": [
    "import matplotlib.pyplot as plt\n",
    "import numpy as np\n",
    "\n",
    "%matplotlib inline\n",
    "\n",
    "data = soil[:]\n",
    "print(np.shape(data))\n",
    "plt.plot(data[:,0,0])\n",
    "plt.show()"
   ]
  },
  {
   "cell_type": "code",
   "execution_count": null,
   "metadata": {
    "collapsed": true
   },
   "outputs": [],
   "source": []
  }
 ],
 "metadata": {
  "kernelspec": {
   "display_name": "Python 2",
   "language": "python",
   "name": "python2"
  },
  "language_info": {
   "codemirror_mode": {
    "name": "ipython",
    "version": 2
   },
   "file_extension": ".py",
   "mimetype": "text/x-python",
   "name": "python",
   "nbconvert_exporter": "python",
   "pygments_lexer": "ipython2",
   "version": "2.7.9"
  }
 },
 "nbformat": 4,
 "nbformat_minor": 0
}
